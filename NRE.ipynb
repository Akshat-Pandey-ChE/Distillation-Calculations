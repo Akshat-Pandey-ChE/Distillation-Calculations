{
 "cells": [
  {
   "cell_type": "code",
   "execution_count": 18,
   "metadata": {},
   "outputs": [],
   "source": [
    "import numpy as nd\n",
    "import matplotlib.pyplot as plt\n",
    "import pandas as pd"
   ]
  },
  {
   "cell_type": "code",
   "execution_count": 2,
   "metadata": {},
   "outputs": [],
   "source": [
    "def func( x ): \n",
    "    a = \n",
    "    m =(10^(a - b/(c+T)))\n",
    "    return float(m)"
   ]
  },
  {
   "cell_type": "code",
   "execution_count": 3,
   "metadata": {},
   "outputs": [],
   "source": [
    "def derivFunc( x ): \n",
    "    n = ((0.16*-0.2/((1-0.2*x)*(1-0.2*x)))-(0.049*0.76/((1-0.76*x)*(1-0.76*x)))-(0.046*0.92/((1-0.92*x)*(1-0.92*x))) )\n",
    "    return float(n)"
   ]
  },
  {
   "cell_type": "code",
   "execution_count": 30,
   "metadata": {},
   "outputs": [],
   "source": [
    "def newtonRaphson( x ): \n",
    "    while x<= 1:\n",
    "        h = func(x) / derivFunc(x) \n",
    "        while abs(h) >= 0.01: \n",
    "            h = func(x)/derivFunc(x) \n",
    "            x = x - h \n",
    "    return float(x)"
   ]
  },
  {
   "cell_type": "code",
   "execution_count": null,
   "metadata": {},
   "outputs": [],
   "source": [
    "k = 1.0\n",
    "r = newtonRaphson(k)\n",
    "print(r)"
   ]
  },
  {
   "cell_type": "code",
   "execution_count": 28,
   "metadata": {},
   "outputs": [
    {
     "data": {
      "text/plain": [
       "[<matplotlib.lines.Line2D at 0xb62a350>]"
      ]
     },
     "execution_count": 28,
     "metadata": {},
     "output_type": "execute_result"
    },
    {
     "data": {
      "image/png": "[encoded data removed]",
      "text/plain": [
       "<matplotlib.figure.Figure at 0xb5713b0>"
      ]
     },
     "metadata": {},
     "output_type": "display_data"
    }
   ],
   "source": [
    "x = nd.array(range(1000))\n",
    "x = x/1000\n",
    "m = ((0.16/(1-0.2*x))+(0.049/(1-0.76*x))+(0.046/(1-0.92*x)) -1)\n",
    "plt.plot(x,m)"
   ]
  },
  {
   "cell_type": "code",
   "execution_count": null,
   "metadata": {},
   "outputs": [],
   "source": []
  }
 ],
 "metadata": {
  "kernelspec": {
   "display_name": "Python 3",
   "language": "python",
   "name": "python3"
  },
  "language_info": {
   "codemirror_mode": {
    "name": "ipython",
    "version": 3
   },
   "file_extension": ".py",
   "mimetype": "text/x-python",
   "name": "python",
   "nbconvert_exporter": "python",
   "pygments_lexer": "ipython3",
   "version": "3.6.4"
  }
 },
 "nbformat": 4,
 "nbformat_minor": 2
}
